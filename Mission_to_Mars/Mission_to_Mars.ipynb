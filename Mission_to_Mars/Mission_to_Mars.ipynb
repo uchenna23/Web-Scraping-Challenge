{
 "cells": [
  {
   "cell_type": "code",
   "execution_count": 2,
   "id": "380afe33-5cf7-48bd-a055-c70df87d4efa",
   "metadata": {},
   "outputs": [],
   "source": [
    "# Dependencies\n",
    "import pandas as pd\n",
    "import requests as req\n",
    "from splinter import Browser\n",
    "from bs4 import BeautifulSoup as bs\n",
    "from webdriver_manager.chrome import ChromeDriverManager"
   ]
  },
  {
   "cell_type": "code",
   "execution_count": 3,
   "id": "15c15ee7-8789-4efb-ac05-89e35a495a52",
   "metadata": {},
   "outputs": [
    {
     "name": "stderr",
     "output_type": "stream",
     "text": [
      "\n",
      "\n",
      "====== WebDriver manager ======\n",
      "Current google-chrome version is 95.0.4638\n",
      "Get LATEST driver version for 95.0.4638\n",
      "Driver [/Users/uchennanwagbara/.wdm/drivers/chromedriver/mac64/95.0.4638.69/chromedriver] found in cache\n"
     ]
    }
   ],
   "source": [
    "executable_path = {'executable_path': ChromeDriverManager().install()}\n",
    "browser = Browser('chrome', **executable_path, headless=False)"
   ]
  },
  {
   "cell_type": "code",
   "execution_count": 4,
   "id": "aab66491-798d-43d7-bbff-7bf85ed7be3f",
   "metadata": {},
   "outputs": [
    {
     "name": "stdout",
     "output_type": "stream",
     "text": [
      "November 20, 2021\n",
      "NASA's Mars Perseverance Rover Gets Its Sample Handling System\n",
      "The system will be collecting and storing Martian rock and soil. Its installation marks another milestone in the march toward the July launch period.\n"
     ]
    }
   ],
   "source": [
    "## NASA Mars News\n",
    "# news_date, news_title, news_body show news information\n",
    "\n",
    "url1 = 'https://redplanetscience.com'\n",
    "browser.visit(url1)\n",
    "\n",
    "html = browser.html\n",
    "soup = bs(html, 'html.parser')\n",
    "\n",
    "results = soup.find_all('div',class_=\"list_text\")\n",
    "\n",
    "news_date = results[0].find('div',class_='list_date').text\n",
    "news_title = results[0].find('div',class_='content_title').text\n",
    "news_body = results[0].find('div',class_='article_teaser_body').text\n",
    "\n",
    "print(news_date)\n",
    "print(news_title)\n",
    "print(news_body)"
   ]
  },
  {
   "cell_type": "code",
   "execution_count": 5,
   "id": "4629e150-592f-46e1-b6a5-d6757bf4ea23",
   "metadata": {},
   "outputs": [
    {
     "name": "stdout",
     "output_type": "stream",
     "text": [
      "https://spaceimages-mars.com/image/featured/mars1.jpg\n"
     ]
    }
   ],
   "source": [
    "## JPL Mars Space Images\n",
    "# featured_url is the url showing the featured image\n",
    "\n",
    "url2 = 'https://spaceimages-mars.com'\n",
    "browser.visit(url2)\n",
    "\n",
    "html = browser.html\n",
    "soup = bs(html, 'html.parser')\n",
    "\n",
    "img_start = 'https://spaceimages-mars.com/'\n",
    "img_end = soup.find_all('a',class_='showimg fancybox-thumbs')[0]['href']\n",
    "featured_url = img_start+img_end\n",
    "\n",
    "print(featured_url)"
   ]
  },
  {
   "cell_type": "code",
   "execution_count": 6,
   "id": "fa8a5c89-7ec6-42f9-a652-389610be5f6a",
   "metadata": {},
   "outputs": [],
   "source": [
    "## Mars Facts\n",
    "# mars_info is table's html string \n",
    "\n",
    "url3 = 'https://galaxyfacts-mars.com'\n",
    "tables = pd.read_html(url3)\n",
    "mars_profile = tables[1]\n",
    "mars_info = mars_profile.to_html(index=False, header=False)"
   ]
  },
  {
   "cell_type": "code",
   "execution_count": 7,
   "id": "63404584-052b-41b1-9f21-aab34ce4b278",
   "metadata": {},
   "outputs": [],
   "source": [
    "## Mars Hemispheres\n",
    "# hemi_images is a list of dictionaries containing full-res photos of Mars Hemispheres\n",
    "\n",
    "url4 = 'https://marshemispheres.com/'\n",
    "browser.visit(url4)\n",
    "\n",
    "hemi_images = []\n",
    "\n",
    "html = browser.html\n",
    "soup = bs(html, 'html.parser')\n",
    "\n",
    "links_found = browser.links.find_by_partial_text('Enhanced')\n",
    "\n",
    "for x in range(len(links_found)):\n",
    "    browser.visit(url4)\n",
    "    links_found = browser.links.find_by_partial_text('Enhanced')\n",
    "\n",
    "    links_found[x].click()\n",
    "    html = browser.html\n",
    "    soup = bs(html, 'html.parser')\n",
    "\n",
    "    end_url = soup.find_all('a',target=\"_blank\")[2]['href']\n",
    "    hemi_url = url4+end_url\n",
    "    title = soup.find('h2',class_='title').text\n",
    "\n",
    "    hemi_images.append({'title':title,'hemi_url':hemi_url})\n",
    "    \n",
    "browser.quit()"
   ]
  },
  {
   "cell_type": "code",
   "execution_count": null,
   "id": "39be1617-7bf8-4f47-8331-c9f968017e71",
   "metadata": {},
   "outputs": [],
   "source": []
  }
 ],
 "metadata": {
  "interpreter": {
   "hash": "56718adbc0caed7a0cadfb28bcf06e3b2ea015479b1a8f82bcb8bdb71a2ce00e"
  },
  "kernelspec": {
   "display_name": "Python 3.8.8 64-bit ('base': conda)",
   "name": "python3"
  },
  "language_info": {
   "codemirror_mode": {
    "name": "ipython",
    "version": 3
   },
   "file_extension": ".py",
   "mimetype": "text/x-python",
   "name": "python",
   "nbconvert_exporter": "python",
   "pygments_lexer": "ipython3",
   "version": "3.8.8"
  }
 },
 "nbformat": 4,
 "nbformat_minor": 5
}
